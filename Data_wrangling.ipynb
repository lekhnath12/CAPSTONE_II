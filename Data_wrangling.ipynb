{
 "cells": [
  {
   "cell_type": "code",
   "execution_count": 1,
   "metadata": {},
   "outputs": [],
   "source": [
    "# Import necessary modules\n",
    "import pandas as pd\n",
    "\n",
    "# This function reads the file and ignores the columns\n",
    "# that has most of the empty values.\n",
    "\n",
    "\n",
    "def trim_empty(file):\n",
    "    df = pd.read_csv(file, skiprows=1, low_memory=False)\n",
    "    cols = df.count()\n",
    "    cols_delete = cols <= cols.max()/3\n",
    "    cols_delete = cols[cols_delete]\n",
    "    df.drop(list(cols_delete.index), axis=1, inplace=True)\n",
    "    return df\n",
    "\n",
    "\n",
    "def trim_empty_df(df):\n",
    "    cols = df.count()\n",
    "    cols_delete = cols <= cols.max()/3\n",
    "    cols_delete = cols[cols_delete]\n",
    "    df.drop(list(cols_delete.index), axis=1, inplace=True)\n",
    "    return df"
   ]
  },
  {
   "cell_type": "code",
   "execution_count": 2,
   "metadata": {},
   "outputs": [],
   "source": [
    "# Load datas\n",
    "df2018_3 = trim_empty('Original_data\\LoanStats_2018Q3.csv')\n",
    "df2018_2 = trim_empty('Original_data\\LoanStats_2018Q2.csv')\n",
    "df2018_1 = trim_empty('Original_data\\LoanStats_2018Q1.csv')\n",
    "\n",
    "df2017_4 = trim_empty('Original_data\\LoanStats_2017Q4.csv')\n",
    "df2017_3 = trim_empty('Original_data\\LoanStats_2017Q3.csv')\n",
    "df2017_2 = trim_empty('Original_data\\LoanStats_2017Q2.csv')\n",
    "df2017_1 = trim_empty('Original_data\\LoanStats_2017Q1.csv')\n",
    "\n",
    "df2016_4 = trim_empty('Original_data\\LoanStats_2016Q4.csv')\n",
    "df2016_3 = trim_empty('Original_data\\LoanStats_2016Q3.csv')\n",
    "df2016_2 = trim_empty('Original_data\\LoanStats_2016Q2.csv')\n",
    "df2016_1 = trim_empty('Original_data\\LoanStats_2016Q1.csv')\n",
    "\n",
    "df_d = trim_empty('Original_data\\LoanStats3d.csv')\n",
    "df_c = trim_empty('Original_data\\LoanStats3c.csv')\n",
    "df_b = trim_empty('Original_data\\LoanStats3b.csv')\n",
    "df_a = trim_empty('Original_data\\LoanStats3a.csv')\n",
    "\n",
    "# Combine different data into a single dataframe.\n",
    "# Again, we ignore the columns that is mostly empty.\n",
    "df = pd.concat([df2018_3, df2018_2, df2018_1,\n",
    "                df2017_4, df2017_3, df2017_2, df2017_1,\n",
    "                df2016_4, df2016_3, df2016_2, df2016_1,\n",
    "                df_a, df_b, df_c, df_d], axis=0, ignore_index=True, sort=False)\n",
    "\n",
    "df = trim_empty_df(df)"
   ]
  },
  {
   "cell_type": "code",
   "execution_count": 3,
   "metadata": {},
   "outputs": [],
   "source": [
    "# Convert colums with data into python datetime object\n",
    "df.earliest_cr_line = pd.to_datetime(df.earliest_cr_line)\n",
    "df.issue_d = pd.to_datetime(df.issue_d)\n",
    "df.last_pymnt_d = pd.to_datetime(df.last_pymnt_d)\n",
    "df.last_credit_pull_d = pd.to_datetime(df.last_credit_pull_d)"
   ]
  },
  {
   "cell_type": "code",
   "execution_count": 4,
   "metadata": {},
   "outputs": [],
   "source": [
    "# Some columns contain characters such as % and symbols.\n",
    "# We need to delete them.\n",
    "\n",
    "df.int_rate = pd.to_numeric(df.int_rate.str.strip('%'))\n",
    "\n",
    "df.term = pd.to_numeric(df.term.str.strip('months'))\n",
    "\n",
    "df1 = df.emp_length.str.replace('+', '')\n",
    "df1 = df1.str.replace('<', '')\n",
    "df.emp_length = pd.to_numeric(df1.str.strip('years'))\n",
    "\n",
    "df.revol_util = df.revol_util.str.strip('%').astype('float')"
   ]
  },
  {
   "cell_type": "code",
   "execution_count": 5,
   "metadata": {},
   "outputs": [],
   "source": [
    "# Loan status column has multiple categories.\n",
    "# We simplyfy those into two categories.\n",
    "condition1 = pd.Series(df['loan_status']\n",
    "                       .str.contains('Late')).astype('bool')\n",
    "condition2 = pd.Series(df['loan_status']\n",
    "                       .str.contains('Charged')).astype('bool')\n",
    "condition = condition1 | condition2\n",
    "\n",
    "df.loan_status = df.loan_status.where(~condition, 'Late/Charged Off')\n",
    "\n",
    "condition1 = pd.Series(df['loan_status']\n",
    "                       .str.contains('Current')).astype('bool')\n",
    "condition2 = pd.Series(df['loan_status']\n",
    "                       .str.contains('Paid')).astype('bool')\n",
    "condition3 = pd.Series(df['loan_status']\n",
    "                       .str.contains('Grace')).astype('bool')\n",
    "condition4 = pd.Series(df['loan_status']\n",
    "                       .str.contains('Default')).astype('bool')\n",
    "\n",
    "condition = condition1 | condition2 | condition3 | condition4\n",
    "\n",
    "df.loan_status = df.loan_status.where(~condition, 'Current/Fully Paid')\n",
    "\n",
    "condition = df.annual_inc > 5*df.annual_inc.mean()\n",
    "df.annual_inc = df.annual_inc.where(~condition, df.annual_inc.mean())\n",
    "\n",
    "df_bool = df.verification_status == 'Source Verified'\n",
    "df.verification_status = df.verification_status.where(~df_bool, 'Verified')\n",
    "\n",
    "condition = (df.home_ownership == 'OTHER') |\\\n",
    "            (df.home_ownership == 'ANY') |\\\n",
    "            (df.home_ownership == 'NONE')\n",
    "        \n",
    "df.home_ownership = df.home_ownership.where(~condition, None)"
   ]
  },
  {
   "cell_type": "code",
   "execution_count": 6,
   "metadata": {},
   "outputs": [],
   "source": [
    "# Delete unnecessary columns\n",
    "df.drop(['grade', 'sub_grade', 'zip_code', 'policy_code', 'title'],\n",
    "        axis=1, inplace=True)"
   ]
  },
  {
   "cell_type": "code",
   "execution_count": 7,
   "metadata": {},
   "outputs": [],
   "source": [
    "# Save data to csv for future analysis. \n",
    "df = df[df.funded_amnt_inv >= 1000]\n",
    "\n",
    "df.to_csv('Intermediate_data/Trimmed.csv')"
   ]
  }
 ],
 "metadata": {
  "kernelspec": {
   "display_name": "Python 3",
   "language": "python",
   "name": "python3"
  },
  "language_info": {
   "codemirror_mode": {
    "name": "ipython",
    "version": 3
   },
   "file_extension": ".py",
   "mimetype": "text/x-python",
   "name": "python",
   "nbconvert_exporter": "python",
   "pygments_lexer": "ipython3",
   "version": "3.7.1"
  }
 },
 "nbformat": 4,
 "nbformat_minor": 2
}
