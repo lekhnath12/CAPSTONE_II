{
 "cells": [
  {
   "cell_type": "code",
   "execution_count": 1,
   "metadata": {},
   "outputs": [
    {
     "name": "stderr",
     "output_type": "stream",
     "text": [
      "G:\\Anaconda\\lib\\site-packages\\sklearn\\ensemble\\weight_boosting.py:29: DeprecationWarning: numpy.core.umath_tests is an internal NumPy module and should not be imported. It will be removed in a future NumPy release.\n",
      "  from numpy.core.umath_tests import inner1d\n"
     ]
    }
   ],
   "source": [
    "# Import necessary modules \n",
    "from joblib import dump, load\n",
    "import pandas as pd\n",
    "import matplotlib.pyplot as plt\n",
    "import numpy as np\n",
    "from datetime import datetime\n",
    "\n",
    "from sklearn.ensemble import RandomForestClassifier, GradientBoostingClassifier\n",
    "from sklearn.preprocessing import StandardScaler\n",
    "from sklearn.metrics import classification_report, roc_curve, confusion_matrix, roc_auc_score\n",
    "from sklearn.model_selection import train_test_split"
   ]
  },
  {
   "cell_type": "code",
   "execution_count": 2,
   "metadata": {},
   "outputs": [
    {
     "name": "stdout",
     "output_type": "stream",
     "text": [
      "done\n",
      "Wall time: 4min 37s\n"
     ]
    }
   ],
   "source": [
    "%%time \n",
    "\n",
    "# Load csv data as a dataframe \n",
    "df = pd.read_csv('Intermediate_data\\Trimmed.csv', \n",
    "                 parse_dates = ['earliest_cr_line', 'issue_d', 'last_pymnt_d', 'next_pymnt_d', 'last_credit_pull_d'])\n",
    "\n",
    "df['history'] = (df.issue_d - df.earliest_cr_line).dt.days \n",
    "\n",
    "df.drop([], axis = 1, inplace =  True)\n",
    "\n",
    "# Drop unnecessary columns and the columns that are leaks the information. For example, non-zero value in\n",
    "# 'collection recovery fee' column already mean that the loan is default. Also remove some columns that have \n",
    "# very little or zero predictive power\n",
    "\n",
    "df.drop(['last_pymnt_amnt', 'collection_recovery_fee', 'recoveries', 'out_prncp_inv', \n",
    "         'out_prncp', 'total_rec_prncp', 'Unnamed: 0', 'total_pymnt', 'total_pymnt_inv',\n",
    "         'total_rec_late_fee', 'total_rec_int', 'emp_title', 'debt_settlement_flag', \n",
    "         'addr_state', 'purpose', 'delinq_amnt', 'hardship_flag', 'pymnt_plan', \n",
    "         'collections_12_mths_ex_med', 'chargeoff_within_12_mths', 'acc_now_delinq', \n",
    "         'earliest_cr_line', 'issue_d', 'last_pymnt_d', 'next_pymnt_d', \n",
    "         'last_credit_pull_d'],\n",
    "         axis = 1, inplace = True)\n",
    "\n",
    "print('done')"
   ]
  },
  {
   "cell_type": "code",
   "execution_count": 3,
   "metadata": {},
   "outputs": [
    {
     "name": "stderr",
     "output_type": "stream",
     "text": [
      "G:\\Anaconda\\lib\\site-packages\\pandas\\core\\generic.py:5434: SettingWithCopyWarning: \n",
      "A value is trying to be set on a copy of a slice from a DataFrame\n",
      "\n",
      "See the caveats in the documentation: http://pandas.pydata.org/pandas-docs/stable/indexing.html#indexing-view-versus-copy\n",
      "  self._update_inplace(new_data)\n"
     ]
    }
   ],
   "source": [
    "# Some columns are categorical. I converted them to categorical dummies (0 or 1)\n",
    "cate_list = list(df.dtypes[df.dtypes == 'object'].index)\n",
    "df_cate = df[cate_list]\n",
    "\n",
    "df_cat_dum = pd.get_dummies(df_cate, drop_first = True)\n",
    "y1 = df_cat_dum['loan_status_Late/Charged Off']\n",
    "df_cat_dum.drop('loan_status_Late/Charged Off', axis = 1, inplace = True)\n",
    "\n",
    "# Create the subset of numerical columns. \n",
    "df_num_col = df.dtypes[df.dtypes == 'float64']\n",
    "df_num = df[list(df_num_col.index)]\n",
    "\n",
    "# Some of the numerical columns contains missing values. I filled the missing values using \n",
    "# the mean value of the column. \n",
    "for col in df_num.columns:\n",
    "    df_num[col].fillna(df_num[col].mean(), inplace = True)\n",
    "\n",
    "# Combine categorical and numerical columns\n",
    "df_com = pd.concat([df_num, df_cat_dum], axis = 1)\n",
    "\n",
    "# Combine both subsample of default or non-default loans\n",
    "y = df_com['int_rate']\n",
    "X = df_com.drop(['int_rate'], axis = 1).values\n",
    "\n",
    "# Scale the data to their standard values. \n",
    "X = StandardScaler().fit_transform(X)"
   ]
  },
  {
   "cell_type": "code",
   "execution_count": 4,
   "metadata": {},
   "outputs": [],
   "source": [
    "# Load the model \n",
    "model = load('Grad_boosting.joblib')\n",
    "\n",
    "# Make prediction\n",
    "prob = model.predict_proba(X)\n",
    "\n",
    "# Calculate the risk of the loans\n",
    "risk_new = pd.Series(prob[:,0])\n",
    "\n",
    "# Estimate the risk of Loan from the interest column of Lending club\n",
    "risk = ((y -y.min())/(y.max() - y.min()))\n"
   ]
  },
  {
   "cell_type": "code",
   "execution_count": 5,
   "metadata": {
    "scrolled": false
   },
   "outputs": [
    {
     "data": {
      "image/png": "[encoded data removed]",
      "text/plain": [
       "<Figure size 1080x360 with 2 Axes>"
      ]
     },
     "metadata": {
      "needs_background": "light"
     },
     "output_type": "display_data"
    }
   ],
   "source": [
    "fig, ax = plt.subplots(ncols = 2, nrows = 1, figsize = (15, 5))\n",
    "\n",
    "# Plot histogram of risk estimated from interest column \n",
    "hist1= ax[0].hist(risk[y1 == 0], bins = 20, density = True, \n",
    "           color = 'red', label = 'Charged off', alpha = 0.5)\n",
    "hist2 = ax[0].hist(risk[y1 == 1], bins = 20, density = True, \n",
    "           color = 'blue', label = 'Paid', alpha = 0.5)\n",
    "ax[0].errorbar(risk[y1 == 0].mean(), 1.0, xerr= risk[y1 == 0].std(),\n",
    "                 color = 'r', marker = 'o')\n",
    "ax[0].errorbar(risk[y1 == 1].mean(), 1.2, xerr= risk[y1 == 1].std(), \n",
    "                 color = 'b', marker = 'o')\n",
    "\n",
    "# Measure quality of previous model\n",
    "quality = []\n",
    "q = (1 - np.minimum(hist1[0], hist2[0]).sum()/hist2[0].sum())*100\n",
    "q = round(q, 1)\n",
    "quality.append(q)\n",
    "\n",
    "# Plot histogram of risk calculated from our data\n",
    "hist1_new = ax[1].hist(risk_new[y1 == 0], bins = 20, density = True, \n",
    "           color = 'red', label = 'Charged off', alpha = 0.5)\n",
    "hist2_new = ax[1].hist(risk_new[y1 == 1], bins = 20, density = True, \n",
    "           color = 'blue', label = 'Paid', alpha = 0.5)\n",
    "ax[1].errorbar(risk_new[y1 == 0].mean(), 1.0, xerr= risk[y1 == 0].std(),\n",
    "                 color = 'r', marker = 'o')\n",
    "ax[1].errorbar(risk_new[y1 == 1].mean(), 1.2, xerr= risk[y1 == 1].std(), \n",
    "                 color = 'b', marker = 'o')\n",
    "\n",
    "q = (1 - np.minimum(hist1_new[0], hist2_new[0]).sum()/hist2_new[0].sum())*100\n",
    "quality.append(round(q, 1))\n",
    "\n",
    "quality = iter(quality) \n",
    "\n",
    "axes_title = iter(['Old', 'New'])\n",
    "\n",
    "for ax in ax:\n",
    "    ax.tick_params(axis = 'both', labelsize=20)\n",
    "    ax.set_xlabel('Risk', fontsize = 20)\n",
    "    ax.set_ylabel('Frequency', fontsize = 20)\n",
    "    ax.set_title(str(next(axes_title)) + ', Quality = ' + str(next(quality)) + '%', \n",
    "                 fontsize = 20)\n",
    "    ax.legend()\n",
    "\n",
    "plt.subplots_adjust(wspace = 0.25)\n"
   ]
  }
 ],
 "metadata": {
  "kernelspec": {
   "display_name": "Python 3",
   "language": "python",
   "name": "python3"
  },
  "language_info": {
   "codemirror_mode": {
    "name": "ipython",
    "version": 3
   },
   "file_extension": ".py",
   "mimetype": "text/x-python",
   "name": "python",
   "nbconvert_exporter": "python",
   "pygments_lexer": "ipython3",
   "version": "3.7.0"
  }
 },
 "nbformat": 4,
 "nbformat_minor": 2
}
