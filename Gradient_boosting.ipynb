{
 "cells": [
  {
   "cell_type": "code",
   "execution_count": 1,
   "metadata": {
    "scrolled": false
   },
   "outputs": [
    {
     "name": "stderr",
     "output_type": "stream",
     "text": [
      "G:\\Anaconda\\lib\\site-packages\\sklearn\\ensemble\\weight_boosting.py:29: DeprecationWarning: numpy.core.umath_tests is an internal NumPy module and should not be imported. It will be removed in a future NumPy release.\n",
      "  from numpy.core.umath_tests import inner1d\n"
     ]
    }
   ],
   "source": [
    "# Import necessary modules\n",
    "\n",
    "import pandas as pd\n",
    "import matplotlib.pyplot as plt\n",
    "import numpy as np\n",
    "from datetime import datetime\n",
    "\n",
    "from sklearn.ensemble import RandomForestClassifier, GradientBoostingClassifier\n",
    "from sklearn.preprocessing import StandardScaler\n",
    "from sklearn.metrics import classification_report\n",
    "from sklearn.metrics import roc_curve, confusion_matrix, roc_auc_score\n",
    "from sklearn.model_selection import train_test_split"
   ]
  },
  {
   "cell_type": "code",
   "execution_count": 2,
   "metadata": {
    "scrolled": false
   },
   "outputs": [],
   "source": [
    "# Load csv data as a dataframe\n",
    "df = pd.read_csv('Intermediate_data\\Trimmed.csv',\n",
    "                 parse_dates=['earliest_cr_line', 'issue_d',\n",
    "                              'last_pymnt_d', 'next_pymnt_d',\n",
    "                              'last_credit_pull_d'])\n",
    "\n",
    "df['history'] = (df.issue_d - df.earliest_cr_line).dt.days\n",
    "\n",
    "df.drop(['Unnamed: 0'], axis=1, inplace=True)"
   ]
  },
  {
   "cell_type": "code",
   "execution_count": 3,
   "metadata": {},
   "outputs": [],
   "source": [
    "# Drop unnecessary columns and the columns that leak the\n",
    "# information. For example, non-zero value in\n",
    "# 'collection recovery fee' column already mean\n",
    "# that the loan is default. Also remove some columns that have\n",
    "# very little or zero predictive power\n",
    "\n",
    "df.drop(['last_pymnt_amnt', 'collection_recovery_fee',\n",
    "         'recoveries', 'out_prncp_inv', 'out_prncp',\n",
    "         'total_rec_prncp', 'int_rate', 'total_pymnt',\n",
    "         'total_pymnt_inv', 'total_rec_late_fee',\n",
    "         'total_rec_int', 'emp_title', 'debt_settlement_flag',\n",
    "         'addr_state', 'purpose', 'delinq_amnt', 'hardship_flag',\n",
    "         'pymnt_plan', 'collections_12_mths_ex_med',\n",
    "         'chargeoff_within_12_mths', 'acc_now_delinq',\n",
    "         'earliest_cr_line', 'issue_d', 'last_pymnt_d',\n",
    "         'next_pymnt_d', 'last_credit_pull_d'],\n",
    "        axis=1, inplace=True)"
   ]
  },
  {
   "cell_type": "code",
   "execution_count": 4,
   "metadata": {},
   "outputs": [],
   "source": [
    "# Some columns are categorical.\n",
    "# I converted them to categorical dummies (0 or 1)\n",
    "\n",
    "cate_list = list(df.dtypes[df.dtypes == 'object'].index)\n",
    "\n",
    "df_cate = df[cate_list]\n",
    "\n",
    "df_cat_dum = pd.get_dummies(df_cate, drop_first=True)\n",
    "df_cat_dum.drop('loan_status_Late/Charged Off', axis=1, inplace=True)"
   ]
  },
  {
   "cell_type": "code",
   "execution_count": 5,
   "metadata": {},
   "outputs": [],
   "source": [
    "# Create the subset of numerical columns.\n",
    "\n",
    "df_num_col = df.dtypes[df.dtypes == 'float64']\n",
    "\n",
    "df_num = df[list(df_num_col.index)]\n",
    "\n",
    "# Invert the categorical value loan status column\n",
    "# so that '1' represents the paid loans.\n",
    "\n",
    "y = 1 - pd.get_dummies(df.loan_status, drop_first=True)"
   ]
  },
  {
   "cell_type": "code",
   "execution_count": 6,
   "metadata": {
    "scrolled": false
   },
   "outputs": [
    {
     "name": "stderr",
     "output_type": "stream",
     "text": [
      "G:\\Anaconda\\lib\\site-packages\\pandas\\core\\generic.py:5434: SettingWithCopyWarning: \n",
      "A value is trying to be set on a copy of a slice from a DataFrame\n",
      "\n",
      "See the caveats in the documentation: http://pandas.pydata.org/pandas-docs/stable/indexing.html#indexing-view-versus-copy\n",
      "  self._update_inplace(new_data)\n"
     ]
    }
   ],
   "source": [
    "# Some of the numerical columns contains missing values.\n",
    "# I filled the missing values using\n",
    "# the mean value of the column.\n",
    "\n",
    "for col in df_num.columns:\n",
    "    df_num[col].fillna(df_num[col].mean(), inplace=True)\n",
    "\n",
    "# Combine categorical and numerical columns\n",
    "df_com = pd.concat([df_num, df_cat_dum, y], axis=1)\n",
    "\n",
    "# The majority of the data is contains non-default loans.\n",
    "# Making equal population is\n",
    "# essential to make an unbiased model.\n",
    "df0 = df_com[df_com['Late/Charged Off'] == 0]\n",
    "df1 = df_com[df_com['Late/Charged Off'] == 1].sample(n=df0.shape[0])\n",
    "\n",
    "# Combine both subsample of default or non-default loans\n",
    "\n",
    "df_combined = pd.concat([df0, df1], axis=0)\n",
    "df_com = df_combined.sample(frac=1.0)\n",
    "\n",
    "y = df_com['Late/Charged Off']\n",
    "X = df_com.drop(['Late/Charged Off'], axis=1).values\n",
    "\n",
    "# Scale the data to their standard values.\n",
    "\n",
    "X = StandardScaler().fit_transform(X)\n",
    "\n",
    "# Train test split\n",
    "X_train, X_test, y_train, y_test = train_test_split(X, y, test_size=0.5,\n",
    "                                                    random_state=77)"
   ]
  },
  {
   "cell_type": "code",
   "execution_count": 7,
   "metadata": {
    "scrolled": false
   },
   "outputs": [
    {
     "name": "stdout",
     "output_type": "stream",
     "text": [
      "             precision    recall  f1-score   support\n",
      "\n",
      "       paid       0.67      0.68      0.67    134787\n",
      "   not-paid       0.68      0.66      0.67    134880\n",
      "\n",
      "avg / total       0.67      0.67      0.67    269667\n",
      "\n",
      "AUC: 0.7322166784263571\n"
     ]
    },
    {
     "data": {
      "image/png": "[encoded data removed]",
      "text/plain": [
       "<Figure size 432x288 with 1 Axes>"
      ]
     },
     "metadata": {
      "needs_background": "light"
     },
     "output_type": "display_data"
    }
   ],
   "source": [
    "# Copy the parameter values that gives\n",
    "# best accuracy from the randomized search.\n",
    "\n",
    "parm_val = {'n_estimators': 1505, 'min_weight_fraction_leaf': 0.05,\n",
    "            'min_samples_split': 1505, 'min_samples_leaf': 302,\n",
    "            'max_features': 0.45, 'max_depth': 1002}\n",
    "\n",
    "# Make a model\n",
    "model = GradientBoostingClassifier(\n",
    "        max_features=parm_val['max_features'],\n",
    "        n_estimators=parm_val['n_estimators'],\n",
    "        min_samples_leaf=parm_val['min_samples_leaf'],\n",
    "        max_depth=parm_val['max_depth'],\n",
    "        min_weight_fraction_leaf=parm_val['min_weight_fraction_leaf'],\n",
    "        min_samples_split=parm_val['min_samples_split'],\n",
    "        random_state=77)\n",
    "\n",
    "# Fit the data.\n",
    "model.fit(X_train, y_train)\n",
    "score = model.score(X_test, y_test)\n",
    "\n",
    "# predicted value\n",
    "y_pred = model.predict(X_test)\n",
    "\n",
    "print(classification_report(y_test, y_pred,\n",
    "                            target_names=['paid', 'not-paid']))\n",
    "\n",
    "# Calculated probability\n",
    "y_pred_prob = model.predict_proba(X_test)[:, 1]\n",
    "\n",
    "# Generate ROC curve values: fpr, tpr, thresholds\n",
    "fpr, tpr, thresholds = roc_curve(y_test, y_pred_prob)\n",
    "\n",
    "# Area under the curve.\n",
    "print(\"AUC: {}\".format(roc_auc_score(y_test, y_pred_prob)))\n",
    "\n",
    "# Plot ROC curve\n",
    "plt.plot([0, 1], [0, 1], 'k--')\n",
    "plt.plot(fpr, tpr, 'r', label='Gradient Boosting')\n",
    "plt.xlabel('False Positive Rate')\n",
    "plt.ylabel('True Positive Rate')\n",
    "plt.title('ROC Curve')\n",
    "plt.legend()\n",
    "plt.show()"
   ]
  },
  {
   "cell_type": "code",
   "execution_count": 8,
   "metadata": {
    "scrolled": false
   },
   "outputs": [
    {
     "data": {
      "text/plain": [
       "['Grad_boosting.joblib']"
      ]
     },
     "execution_count": 8,
     "metadata": {},
     "output_type": "execute_result"
    }
   ],
   "source": [
    "# Save the model for future use.\n",
    "\n",
    "from joblib import dump, load\n",
    "dump(model, 'Grad_boosting.joblib')"
   ]
  }
 ],
 "metadata": {
  "kernelspec": {
   "display_name": "Python 3",
   "language": "python",
   "name": "python3"
  },
  "language_info": {
   "codemirror_mode": {
    "name": "ipython",
    "version": 3
   },
   "file_extension": ".py",
   "mimetype": "text/x-python",
   "name": "python",
   "nbconvert_exporter": "python",
   "pygments_lexer": "ipython3",
   "version": "3.7.0"
  }
 },
 "nbformat": 4,
 "nbformat_minor": 2
}
