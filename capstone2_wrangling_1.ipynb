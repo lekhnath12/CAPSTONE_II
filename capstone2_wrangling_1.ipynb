{
 "cells": [
  {
   "cell_type": "code",
   "execution_count": 1,
   "metadata": {},
   "outputs": [
    {
     "name": "stdout",
     "output_type": "stream",
     "text": [
      "0.0 Seconds\n"
     ]
    }
   ],
   "source": [
    "import time\n",
    "import pandas as pd\n",
    "\n",
    "start_time = time.time()\n",
    "\n",
    "def trim_empty(file):\n",
    "    df = pd.read_csv(file, skiprows= 1, low_memory= False)\n",
    "    cols = df.count()\n",
    "    cols_delete = cols <= cols.max()/3\n",
    "    cols_delete = cols[cols_delete]\n",
    "    df.drop(list(cols_delete.index), axis =1, inplace = True)\n",
    "    return df\n",
    "\n",
    "def trim_empty_df(df):\n",
    "    cols = df.count()\n",
    "    cols_delete = cols <= cols.max()/3\n",
    "    cols_delete = cols[cols_delete]\n",
    "    df.drop(list(cols_delete.index), axis =1, inplace = True)\n",
    "    return df\n",
    "\n",
    "print(time.time() - start_time, 'Seconds')"
   ]
  },
  {
   "cell_type": "code",
   "execution_count": 2,
   "metadata": {},
   "outputs": [
    {
     "name": "stdout",
     "output_type": "stream",
     "text": [
      "134.91957592964172 Seconds\n"
     ]
    }
   ],
   "source": [
    "df2018_3 = trim_empty('Original_data\\LoanStats_2018Q3.csv')\n",
    "df2018_2 = trim_empty('Original_data\\LoanStats_2018Q2.csv')\n",
    "df2018_1 = trim_empty('Original_data\\LoanStats_2018Q1.csv')\n",
    "\n",
    "df2017_4 = trim_empty('Original_data\\LoanStats_2017Q4.csv')\n",
    "df2017_3 = trim_empty('Original_data\\LoanStats_2017Q3.csv')\n",
    "df2017_2 = trim_empty('Original_data\\LoanStats_2017Q2.csv')\n",
    "df2017_1 = trim_empty('Original_data\\LoanStats_2017Q1.csv')\n",
    "\n",
    "df2016_4 = trim_empty('Original_data\\LoanStats_2016Q4.csv')\n",
    "df2016_3 = trim_empty('Original_data\\LoanStats_2016Q3.csv')\n",
    "df2016_2 = trim_empty('Original_data\\LoanStats_2016Q2.csv')\n",
    "df2016_1 = trim_empty('Original_data\\LoanStats_2016Q1.csv')\n",
    "\n",
    "df_d = trim_empty('Original_data\\LoanStats3d.csv')\n",
    "df_c = trim_empty('Original_data\\LoanStats3c.csv')\n",
    "df_b = trim_empty('Original_data\\LoanStats3b.csv')\n",
    "df_a = trim_empty('Original_data\\LoanStats3a.csv')\n",
    "\n",
    "print(time.time() - start_time, 'Seconds')"
   ]
  },
  {
   "cell_type": "code",
   "execution_count": 3,
   "metadata": {
    "scrolled": false
   },
   "outputs": [
    {
     "name": "stdout",
     "output_type": "stream",
     "text": [
      "153.23011779785156 Seconds\n"
     ]
    }
   ],
   "source": [
    "\n",
    "df = pd.concat([df2018_3, df2018_2, df2018_1, \n",
    "                df2017_4, df2017_3, df2017_2, df2017_1,\n",
    "                df2016_4, df2016_3, df2016_2, df2016_1,\n",
    "                df_a, df_b, df_c, df_d], axis = 0, ignore_index = True,\n",
    "                sort = False)\n",
    "\n",
    "df = trim_empty_df(df)\n",
    "\n",
    "print(time.time() - start_time, 'Seconds')"
   ]
  },
  {
   "cell_type": "code",
   "execution_count": 4,
   "metadata": {},
   "outputs": [
    {
     "name": "stdout",
     "output_type": "stream",
     "text": [
      "455.79532289505005 Seconds\n"
     ]
    }
   ],
   "source": [
    "# convert some date time columns to datetime object\n",
    "df.earliest_cr_line = pd.to_datetime(df.earliest_cr_line)\n",
    "df.issue_d = pd.to_datetime(df.issue_d)\n",
    "df.last_pymnt_d = pd.to_datetime(df.last_pymnt_d)\n",
    "df.last_credit_pull_d = pd.to_datetime(df.last_credit_pull_d)\n",
    "\n",
    "print(time.time() - start_time, 'Seconds')"
   ]
  },
  {
   "cell_type": "code",
   "execution_count": 5,
   "metadata": {},
   "outputs": [
    {
     "name": "stdout",
     "output_type": "stream",
     "text": [
      "467.76470041275024 Seconds\n"
     ]
    }
   ],
   "source": [
    "df.int_rate = pd.to_numeric(df.int_rate.str.strip('%'))\n",
    "\n",
    "df.term = pd.to_numeric(df.term.str.strip('months'))\n",
    "\n",
    "df1 = df.emp_length.str.replace('+', '')\n",
    "df1 = df1.str.replace('<', '')\n",
    "df.emp_length = pd.to_numeric(df1.str.strip('years'))\n",
    "\n",
    "df.revol_util = df.revol_util.str.strip('%').astype('float')\n",
    "\n",
    "print(time.time() - start_time, 'Seconds')"
   ]
  },
  {
   "cell_type": "code",
   "execution_count": 6,
   "metadata": {},
   "outputs": [
    {
     "name": "stdout",
     "output_type": "stream",
     "text": [
      "476.98610734939575 Seconds\n"
     ]
    }
   ],
   "source": [
    "# change the loan status column\n",
    "condition1 = pd.Series(df['loan_status'].str.contains('Late')).astype('bool')\n",
    "condition2 = pd.Series(df['loan_status'].str.contains('Charged')).astype('bool')\n",
    "condition = condition1 | condition2\n",
    "\n",
    "df.loan_status = df.loan_status.where(~condition, 'Late/Charged Off')\n",
    "\n",
    "condition1 = pd.Series(df['loan_status'].str.contains('Current')).astype('bool')\n",
    "condition2 = pd.Series(df['loan_status'].str.contains('Paid')).astype('bool')\n",
    "condition3 = pd.Series(df['loan_status'].str.contains('Grace')).astype('bool')\n",
    "condition4 = pd.Series(df['loan_status'].str.contains('Default')).astype('bool')\n",
    "\n",
    "condition = condition1 | condition2 | condition3 | condition4\n",
    "\n",
    "df.loan_status = df.loan_status.where(~condition, 'Current/Fully Paid')\n",
    "\n",
    "condition = df.annual_inc > 5*df.annual_inc.mean()\n",
    "df.annual_inc = df.annual_inc.where(~condition, df.annual_inc.mean())\n",
    "\n",
    "df_bool = df.verification_status == 'Source Verified'\n",
    "df.verification_status = df.verification_status.where(~df_bool, 'Verified')\n",
    "\n",
    "\n",
    "condition = (df.home_ownership == 'OTHER') |  (df.home_ownership == 'ANY') |(df.home_ownership == 'NONE')\n",
    "df.home_ownership = df.home_ownership.where(~condition, None)\n",
    "\n",
    "print(time.time() - start_time, 'Seconds')"
   ]
  },
  {
   "cell_type": "code",
   "execution_count": 7,
   "metadata": {},
   "outputs": [
    {
     "name": "stdout",
     "output_type": "stream",
     "text": [
      "499.8524672985077 Seconds\n"
     ]
    }
   ],
   "source": [
    "#delete unnecessary columns\n",
    "df.drop(['grade', 'sub_grade', 'zip_code', 'policy_code', 'title'], \n",
    "        axis = 1, inplace = True)\n",
    "\n",
    "print(time.time() - start_time, 'Seconds')"
   ]
  },
  {
   "cell_type": "code",
   "execution_count": 8,
   "metadata": {},
   "outputs": [
    {
     "name": "stdout",
     "output_type": "stream",
     "text": [
      "768.6184558868408 Seconds\n"
     ]
    }
   ],
   "source": [
    "df = df[df.funded_amnt_inv >= 1000]\n",
    "\n",
    "df.to_csv('Intermediate_data/Trimmed.csv')\n",
    "\n",
    "print(time.time() - start_time, 'Seconds')"
   ]
  },
  {
   "cell_type": "code",
   "execution_count": 9,
   "metadata": {},
   "outputs": [
    {
     "name": "stdout",
     "output_type": "stream",
     "text": [
      "total_rev_hi_lim Not found\n",
      "773.0785269737244 Seconds\n"
     ]
    }
   ],
   "source": [
    "\n",
    "dictionary = pd.read_excel('C:\\Capstone2\\Original_data\\LCDataDictionary.xlsx', \n",
    "                           sheet_name= 'LoanStats', index_col= 'LoanStatNew')\n",
    "\n",
    "dictionary = dictionary.to_dict()\n",
    "\n",
    "new_dict = dict()\n",
    "\n",
    "for col in list(df.columns):\n",
    "    try:\n",
    "        new_dict[col] = dictionary['Description'][col]\n",
    "    except: \n",
    "        print(col, 'Not found')\n",
    "        continue\n",
    "\n",
    "new_dict = pd.DataFrame.from_dict(data = new_dict, orient = 'index', columns = ['Meaning'])\n",
    "new_dict.sort_index(ascending = True, inplace = True)\n",
    "new_dict.to_excel('Intermediate_data/new_dictionary.xls')\n",
    "\n",
    "print(time.time() - start_time, 'Seconds')"
   ]
  }
 ],
 "metadata": {
  "kernelspec": {
   "display_name": "Python 3",
   "language": "python",
   "name": "python3"
  },
  "language_info": {
   "codemirror_mode": {
    "name": "ipython",
    "version": 3
   },
   "file_extension": ".py",
   "mimetype": "text/x-python",
   "name": "python",
   "nbconvert_exporter": "python",
   "pygments_lexer": "ipython3",
   "version": "3.7.1"
  }
 },
 "nbformat": 4,
 "nbformat_minor": 2
}
